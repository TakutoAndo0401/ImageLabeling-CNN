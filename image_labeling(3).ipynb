{
 "cells": [
  {
   "cell_type": "markdown",
   "metadata": {},
   "source": [
    "# 3回目\n",
    "- 活性化関数をsigmoidからreluに\n",
    "- filters数を変更\n",
    "- 層の追加"
   ]
  },
  {
   "cell_type": "code",
   "execution_count": 1,
   "metadata": {},
   "outputs": [
    {
     "name": "stderr",
     "output_type": "stream",
     "text": [
      "Using TensorFlow backend.\n"
     ]
    },
    {
     "name": "stdout",
     "output_type": "stream",
     "text": [
      "<class 'numpy.ndarray'> (50000, 32, 32, 3)\n",
      "<class 'numpy.ndarray'> (10000, 32, 32, 3)\n",
      "Train on 40000 samples, validate on 10000 samples\n",
      "Epoch 1/30\n",
      "40000/40000 [==============================] - 50s 1ms/step - loss: 2.5328 - val_loss: 2.1833\n",
      "Epoch 2/30\n",
      "40000/40000 [==============================] - 48s 1ms/step - loss: 2.0792 - val_loss: 1.9757\n",
      "Epoch 3/30\n",
      "40000/40000 [==============================] - 47s 1ms/step - loss: 1.8556 - val_loss: 1.8466\n",
      "Epoch 4/30\n",
      "40000/40000 [==============================] - 49s 1ms/step - loss: 1.6697 - val_loss: 1.7675\n",
      "Epoch 5/30\n",
      "40000/40000 [==============================] - 50s 1ms/step - loss: 1.5056 - val_loss: 1.7443\n",
      "Epoch 6/30\n",
      "40000/40000 [==============================] - 51s 1ms/step - loss: 1.3551 - val_loss: 1.7851\n",
      "Epoch 7/30\n",
      "40000/40000 [==============================] - 51s 1ms/step - loss: 1.2133 - val_loss: 1.7920\n",
      "Epoch 8/30\n",
      "40000/40000 [==============================] - 52s 1ms/step - loss: 1.0958 - val_loss: 1.9399\n",
      "Epoch 9/30\n",
      "40000/40000 [==============================] - 52s 1ms/step - loss: 0.9938 - val_loss: 2.0193\n",
      "Epoch 10/30\n",
      "40000/40000 [==============================] - 52s 1ms/step - loss: 0.8810 - val_loss: 2.2007\n",
      "Epoch 11/30\n",
      "40000/40000 [==============================] - 52s 1ms/step - loss: 0.8370 - val_loss: 2.1964\n",
      "Epoch 12/30\n",
      "40000/40000 [==============================] - 52s 1ms/step - loss: 0.8052 - val_loss: 2.2602\n",
      "Epoch 13/30\n",
      "40000/40000 [==============================] - 52s 1ms/step - loss: 0.7717 - val_loss: 2.4429\n",
      "Epoch 14/30\n",
      "40000/40000 [==============================] - 52s 1ms/step - loss: 0.7038 - val_loss: 2.5981\n",
      "Epoch 15/30\n",
      "40000/40000 [==============================] - 53s 1ms/step - loss: 0.7410 - val_loss: 2.5759\n",
      "Epoch 16/30\n",
      "40000/40000 [==============================] - 53s 1ms/step - loss: 0.7191 - val_loss: 2.6344\n",
      "Epoch 17/30\n",
      "40000/40000 [==============================] - 53s 1ms/step - loss: 0.7131 - val_loss: 2.8026\n",
      "Epoch 18/30\n",
      "40000/40000 [==============================] - 52s 1ms/step - loss: 0.7086 - val_loss: 2.8556\n",
      "Epoch 19/30\n",
      "40000/40000 [==============================] - 52s 1ms/step - loss: 0.7109 - val_loss: 2.9430\n",
      "Epoch 20/30\n",
      "40000/40000 [==============================] - 52s 1ms/step - loss: 0.7182 - val_loss: 2.9626\n",
      "Epoch 21/30\n",
      "40000/40000 [==============================] - 52s 1ms/step - loss: 0.7450 - val_loss: 3.0041\n",
      "Epoch 22/30\n",
      "40000/40000 [==============================] - 53s 1ms/step - loss: 0.7860 - val_loss: 3.0936\n",
      "Epoch 23/30\n",
      "40000/40000 [==============================] - 52s 1ms/step - loss: 0.7709 - val_loss: 3.1021\n",
      "Epoch 24/30\n",
      "40000/40000 [==============================] - 52s 1ms/step - loss: 0.7894 - val_loss: 3.0440\n",
      "Epoch 25/30\n",
      "40000/40000 [==============================] - 52s 1ms/step - loss: 0.8555 - val_loss: 3.1239\n",
      "Epoch 26/30\n",
      "40000/40000 [==============================] - 52s 1ms/step - loss: 0.8622 - val_loss: 3.2661\n",
      "Epoch 27/30\n",
      "40000/40000 [==============================] - 51s 1ms/step - loss: 0.8708 - val_loss: 3.1658\n",
      "Epoch 28/30\n",
      "40000/40000 [==============================] - 52s 1ms/step - loss: 0.9003 - val_loss: 2.9666\n",
      "Epoch 29/30\n",
      "40000/40000 [==============================] - 52s 1ms/step - loss: 0.9263 - val_loss: 3.2138\n",
      "Epoch 30/30\n",
      "40000/40000 [==============================] - 51s 1ms/step - loss: 0.9445 - val_loss: 3.3766\n"
     ]
    }
   ],
   "source": [
    "import numpy as np\n",
    "import pandas as pd\n",
    "from matplotlib import pyplot as plt\n",
    "from skimage import io\n",
    "from keras import utils\n",
    "from keras.models import Sequential\n",
    "from keras.layers import Dense, Flatten, Activation\n",
    "from keras.layers import Conv2D, MaxPooling2D\n",
    "from keras import optimizers\n",
    "\n",
    "labels= pd.read_csv(\"train_master.tsv\", sep=\"\\t\")\n",
    "master = pd.read_csv(\"label_master.tsv\", sep=\"\\t\")\n",
    "sample = pd.read_csv(\"sample_submit.csv\", header=None, sep=\",\")\n",
    "\n",
    "train_images = []\n",
    "for fname in labels[\"file_name\"]:\n",
    "    path = \"./train/\" + fname\n",
    "    img = io.imread(path)\n",
    "    train_images.append(img)\n",
    "train_images = np.array(train_images)\n",
    "print(type(train_images), train_images.shape)\n",
    "\n",
    "test_images = []\n",
    "for fname in sample[0]:\n",
    "    path = \"./test/\" + fname\n",
    "    img = io.imread(path)\n",
    "    test_images.append(img)\n",
    "test_images = np.array(test_images )\n",
    "print(type(test_images ), test_images.shape)\n",
    "\n",
    "train_images = train_images / 255\n",
    "test_images = test_images / 255\n",
    "\n",
    "y = labels[\"label_id\"]\n",
    "\n",
    "y_categorical = utils.to_categorical(y)\n",
    "y_categorical\n",
    "\n",
    "X_con_image, X_ver_image = np.split(train_images, [40000])\n",
    "y_con_label, y_ver_label = np.split(y_categorical, [40000])\n",
    "\n",
    "model = Sequential()\n",
    "\n",
    "model.add(Conv2D(filters=60, kernel_size=(3,3), padding=\"same\", input_shape=(32,32,3)))\n",
    "model.add(Activation(\"relu\"))\n",
    "model.add(MaxPooling2D(pool_size=(2,2)))\n",
    "\n",
    "model.add(Conv2D(filters=60, kernel_size=(3,3), padding=\"same\", input_shape=(32,32,3)))\n",
    "model.add(Activation(\"relu\"))\n",
    "model.add(MaxPooling2D(pool_size=(2,2)))\n",
    "\n",
    "model.add(Conv2D(filters=120, kernel_size=(3,3), padding=\"same\"))\n",
    "model.add(Activation(\"relu\"))\n",
    "model.add(MaxPooling2D(pool_size=(2,2)))\n",
    "\n",
    "model.add(Flatten())\n",
    "\n",
    "model.add(Dense(units=600))\n",
    "model.add(Activation(\"relu\"))\n",
    "model.add(Dense(units=100))\n",
    "model.add(Activation(\"relu\"))\n",
    "model.add(Dense(units=20))\n",
    "model.add(Activation(\"softmax\"))\n",
    "\n",
    "model.compile(loss=\"categorical_crossentropy\",\n",
    "             optimizer=optimizers.SGD(lr=0.05, momentum=0.9, decay=0.0, nesterov=True))\n",
    "\n",
    "batch_size=100\n",
    "epochs=30\n",
    "\n",
    "history = model.fit(X_con_image, y_con_label,\n",
    "                    batch_size=batch_size,\n",
    "                    epochs=epochs,\n",
    "                    verbose=1,\n",
    "                    validation_data=(X_ver_image, y_ver_label))"
   ]
  },
  {
   "cell_type": "code",
   "execution_count": 5,
   "metadata": {},
   "outputs": [
    {
     "data": {
      "image/png": "[encoded data removed]",
      "text/plain": [
       "<Figure size 1080x360 with 1 Axes>"
      ]
     },
     "metadata": {
      "needs_background": "light"
     },
     "output_type": "display_data"
    }
   ],
   "source": [
    "def learning_plot(history, epochs):\n",
    "    fig = plt.figure(figsize=(15,5))\n",
    "    plt.subplot(1,2,1)\n",
    "    plt.plot(range(1,epochs+1), history.history['loss'])\n",
    "    plt.plot(range(1,epochs+1), history.history['val_loss'])\n",
    "    plt.title('model loss')\n",
    "    plt.xlabel('epoch')\n",
    "    plt.xticks(range(1,epochs+1))\n",
    "    plt.ylabel('loss')\n",
    "    plt.legend(['Construction', 'Verification'], loc='upper right')\n",
    "    plt.show()\n",
    "    \n",
    "learning_plot(history,epochs)"
   ]
  },
  {
   "cell_type": "code",
   "execution_count": 11,
   "metadata": {},
   "outputs": [],
   "source": [
    "pred = model.predict(test_images)\n",
    "pred\n",
    "sample[1] = pred\n",
    "sample.to_csv(\"submit3_1.csv\", sep=\",\", index=None, header=None)"
   ]
  },
  {
   "cell_type": "code",
   "execution_count": 9,
   "metadata": {},
   "outputs": [
    {
     "name": "stdout",
     "output_type": "stream",
     "text": [
      "10000/10000 [==============================] - 4s 428us/step\n",
      "3.3765788108825685\n"
     ]
    }
   ],
   "source": [
    "print(model.evaluate(X_ver_image ,y_ver_label))"
   ]
  }
 ],
 "metadata": {
  "kernelspec": {
   "display_name": "Python 3",
   "language": "python",
   "name": "python3"
  },
  "language_info": {
   "codemirror_mode": {
    "name": "ipython",
    "version": 3
   },
   "file_extension": ".py",
   "mimetype": "text/x-python",
   "name": "python",
   "nbconvert_exporter": "python",
   "pygments_lexer": "ipython3",
   "version": "3.6.9"
  }
 },
 "nbformat": 4,
 "nbformat_minor": 2
}
