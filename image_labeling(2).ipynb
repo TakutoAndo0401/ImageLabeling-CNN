{
 "cells": [
  {
   "cell_type": "markdown",
   "metadata": {},
   "source": [
    "# ２回目\n",
    "- 学習率を0.05\n",
    "- epochs（パラメータを探索する回数）を10から20へ"
   ]
  },
  {
   "cell_type": "code",
   "execution_count": 1,
   "metadata": {
    "scrolled": false
   },
   "outputs": [
    {
     "name": "stderr",
     "output_type": "stream",
     "text": [
      "Using TensorFlow backend.\n"
     ]
    },
    {
     "name": "stdout",
     "output_type": "stream",
     "text": [
      "<class 'numpy.ndarray'> (50000, 32, 32, 3)\n",
      "<class 'numpy.ndarray'> (10000, 32, 32, 3)\n",
      "Train on 40000 samples, validate on 10000 samples\n",
      "Epoch 1/25\n",
      "40000/40000 [==============================] - 12s 298us/step - loss: 3.0075 - accuracy: 0.0500 - val_loss: 3.0010 - val_accuracy: 0.0456\n",
      "Epoch 2/25\n",
      "40000/40000 [==============================] - 12s 302us/step - loss: 2.9997 - accuracy: 0.0502 - val_loss: 2.9991 - val_accuracy: 0.0521\n",
      "Epoch 3/25\n",
      "40000/40000 [==============================] - 12s 295us/step - loss: 2.9980 - accuracy: 0.0494 - val_loss: 2.9976 - val_accuracy: 0.0503\n",
      "Epoch 4/25\n",
      "40000/40000 [==============================] - 11s 276us/step - loss: 2.9977 - accuracy: 0.0494 - val_loss: 2.9971 - val_accuracy: 0.0482\n",
      "Epoch 5/25\n",
      "40000/40000 [==============================] - 12s 299us/step - loss: 2.9974 - accuracy: 0.0494 - val_loss: 2.9969 - val_accuracy: 0.0507\n",
      "Epoch 6/25\n",
      "40000/40000 [==============================] - 12s 307us/step - loss: 2.9972 - accuracy: 0.0485 - val_loss: 2.9971 - val_accuracy: 0.0500\n",
      "Epoch 7/25\n",
      "40000/40000 [==============================] - 12s 305us/step - loss: 2.9973 - accuracy: 0.0484 - val_loss: 2.9968 - val_accuracy: 0.0503\n",
      "Epoch 8/25\n",
      "40000/40000 [==============================] - 12s 288us/step - loss: 2.9971 - accuracy: 0.0491 - val_loss: 2.9970 - val_accuracy: 0.0518\n",
      "Epoch 9/25\n",
      "40000/40000 [==============================] - 11s 271us/step - loss: 2.9973 - accuracy: 0.0484 - val_loss: 2.9974 - val_accuracy: 0.0522\n",
      "Epoch 10/25\n",
      "40000/40000 [==============================] - 11s 287us/step - loss: 2.9969 - accuracy: 0.0496 - val_loss: 2.9974 - val_accuracy: 0.0461\n",
      "Epoch 11/25\n",
      "40000/40000 [==============================] - 11s 278us/step - loss: 2.9970 - accuracy: 0.0504 - val_loss: 2.9959 - val_accuracy: 0.0503\n",
      "Epoch 12/25\n",
      "40000/40000 [==============================] - 12s 296us/step - loss: 2.9968 - accuracy: 0.0499 - val_loss: 2.9972 - val_accuracy: 0.0456\n",
      "Epoch 13/25\n",
      "40000/40000 [==============================] - 12s 295us/step - loss: 2.9961 - accuracy: 0.0531 - val_loss: 2.9971 - val_accuracy: 0.0480\n",
      "Epoch 14/25\n",
      "40000/40000 [==============================] - 11s 282us/step - loss: 2.9897 - accuracy: 0.0640 - val_loss: 2.9671 - val_accuracy: 0.0820\n",
      "Epoch 15/25\n",
      "40000/40000 [==============================] - 11s 273us/step - loss: 2.8752 - accuracy: 0.0927 - val_loss: 2.7994 - val_accuracy: 0.1216\n",
      "Epoch 16/25\n",
      "40000/40000 [==============================] - 11s 274us/step - loss: 2.7358 - accuracy: 0.1353 - val_loss: 2.6909 - val_accuracy: 0.1623\n",
      "Epoch 17/25\n",
      "40000/40000 [==============================] - 11s 280us/step - loss: 2.6560 - accuracy: 0.1641 - val_loss: 2.6388 - val_accuracy: 0.1733\n",
      "Epoch 18/25\n",
      "40000/40000 [==============================] - 12s 299us/step - loss: 2.6048 - accuracy: 0.1787 - val_loss: 2.5883 - val_accuracy: 0.1864\n",
      "Epoch 19/25\n",
      "40000/40000 [==============================] - 11s 287us/step - loss: 2.5478 - accuracy: 0.2005 - val_loss: 2.5177 - val_accuracy: 0.2181\n",
      "Epoch 20/25\n",
      "40000/40000 [==============================] - 11s 277us/step - loss: 2.4779 - accuracy: 0.2246 - val_loss: 2.4532 - val_accuracy: 0.2363\n",
      "Epoch 21/25\n",
      "40000/40000 [==============================] - 11s 279us/step - loss: 2.4121 - accuracy: 0.2466 - val_loss: 2.4117 - val_accuracy: 0.2496\n",
      "Epoch 22/25\n",
      "40000/40000 [==============================] - 11s 276us/step - loss: 2.3485 - accuracy: 0.2672 - val_loss: 2.3358 - val_accuracy: 0.2675\n",
      "Epoch 23/25\n",
      "40000/40000 [==============================] - 11s 268us/step - loss: 2.2862 - accuracy: 0.2851 - val_loss: 2.2988 - val_accuracy: 0.2887\n",
      "Epoch 24/25\n",
      "40000/40000 [==============================] - 12s 289us/step - loss: 2.2293 - accuracy: 0.3026 - val_loss: 2.2273 - val_accuracy: 0.3093\n",
      "Epoch 25/25\n",
      "40000/40000 [==============================] - 11s 283us/step - loss: 2.1777 - accuracy: 0.3211 - val_loss: 2.1801 - val_accuracy: 0.3245\n"
     ]
    }
   ],
   "source": [
    "import numpy as np\n",
    "import pandas as pd\n",
    "from matplotlib import pyplot as plt\n",
    "from skimage import io\n",
    "from keras import utils\n",
    "from keras.models import Sequential\n",
    "from keras.layers import Dense, Flatten, Activation\n",
    "from keras.layers import Conv2D, MaxPooling2D\n",
    "from keras import optimizers\n",
    "\n",
    "labels= pd.read_csv(\"train_master.tsv\", sep=\"\\t\")\n",
    "master = pd.read_csv(\"label_master.tsv\", sep=\"\\t\")\n",
    "sample = pd.read_csv(\"sample_submit.csv\", header=None, sep=\",\")\n",
    "\n",
    "train_images = []\n",
    "for fname in labels[\"file_name\"]:\n",
    "    path = \"./train/\" + fname\n",
    "    img = io.imread(path)\n",
    "    train_images.append(img)\n",
    "train_images = np.array(train_images)\n",
    "print(type(train_images), train_images.shape)\n",
    "\n",
    "test_images = []\n",
    "for fname in sample[0]:\n",
    "    path = \"./test/\" + fname\n",
    "    img = io.imread(path)\n",
    "    test_images.append(img)\n",
    "test_images = np.array(test_images )\n",
    "print(type(test_images ), test_images.shape)\n",
    "\n",
    "train_images = train_images / 255\n",
    "test_images = test_images / 255\n",
    "\n",
    "y = labels[\"label_id\"]\n",
    "\n",
    "y_categorical = utils.to_categorical(y)\n",
    "y_categorical\n",
    "\n",
    "X_con_image, X_ver_image = np.split(train_images, [40000])\n",
    "y_con_label, y_ver_label = np.split(y_categorical, [40000])\n",
    "\n",
    "model = Sequential()\n",
    "\n",
    "model.add(Conv2D(filters=6, kernel_size=(3,3), padding=\"same\", input_shape=(32,32,3)))\n",
    "model.add(Activation(\"sigmoid\"))\n",
    "model.add(MaxPooling2D(pool_size=(2,2)))\n",
    "\n",
    "model.add(Conv2D(filters=12, kernel_size=(3,3), padding=\"same\"))\n",
    "model.add(Activation(\"sigmoid\"))\n",
    "model.add(MaxPooling2D(pool_size=(2,2)))\n",
    "\n",
    "model.add(Flatten())\n",
    "\n",
    "model.add(Dense(units=120))\n",
    "model.add(Activation(\"sigmoid\"))\n",
    "model.add(Dense(units=60))\n",
    "model.add(Activation(\"sigmoid\"))\n",
    "model.add(Dense(units=20))\n",
    "model.add(Activation(\"softmax\"))\n",
    "\n",
    "model.compile(loss=\"categorical_crossentropy\",\n",
    "             optimizer=optimizers.SGD(lr=0.05, momentum=0.9, decay=0.0, nesterov=True), metrics=[\"accuracy\"])\n",
    "\n",
    "batch_size=100\n",
    "epochs=25\n",
    "\n",
    "history = model.fit(X_con_image, y_con_label,\n",
    "                    batch_size=batch_size,\n",
    "                    epochs=epochs,\n",
    "                    verbose=1,\n",
    "                    validation_data=(X_ver_image, y_ver_label))"
   ]
  },
  {
   "cell_type": "code",
   "execution_count": 8,
   "metadata": {},
   "outputs": [
    {
     "data": {
      "image/png": "[encoded data removed]",
      "text/plain": [
       "<Figure size 1080x360 with 2 Axes>"
      ]
     },
     "metadata": {
      "needs_background": "light"
     },
     "output_type": "display_data"
    }
   ],
   "source": [
    "def learning_plot(history, epochs):\n",
    "    fig = plt.figure(figsize=(15,5))\n",
    "    plt.subplot(1,2,1)\n",
    "    plt.plot(range(1,epochs+1), history.history['loss'])\n",
    "    plt.plot(range(1,epochs+1), history.history['val_loss'])\n",
    "    plt.title('model loss')\n",
    "    plt.xlabel('epoch')\n",
    "    plt.xticks(range(1,epochs+1))\n",
    "    plt.ylabel('loss')\n",
    "    plt.legend(['Construction', 'Verification'], loc='upper right')\n",
    "    plt.subplot(1,2,2)\n",
    "    plt.plot(range(1,epochs+1), history.history['accuracy'])\n",
    "    plt.plot(range(1,epochs+1), history.history['val_accuracy'])\n",
    "    plt.title('model accuracy')\n",
    "    plt.xlabel('epoch')\n",
    "    plt.xticks(range(1,epochs+1))\n",
    "    plt.ylabel('accuracy')\n",
    "    plt.legend(['Verification', 'Verification'], loc='upper left')\n",
    "    plt.show()    \n",
    "    \n",
    "learning_plot(history,epochs)"
   ]
  },
  {
   "cell_type": "code",
   "execution_count": 5,
   "metadata": {},
   "outputs": [
    {
     "data": {
      "text/plain": [
       "array([[0.07151275, 0.05319758, 0.00113054, ..., 0.00552707, 0.08523079,\n",
       "        0.1195813 ],\n",
       "       [0.0560459 , 0.08898515, 0.00260421, ..., 0.04907661, 0.06716372,\n",
       "        0.06629769],\n",
       "       [0.16411224, 0.04187162, 0.00698641, ..., 0.00561035, 0.05791557,\n",
       "        0.12247313],\n",
       "       ...,\n",
       "       [0.00917385, 0.12037307, 0.20956194, ..., 0.08274722, 0.01057402,\n",
       "        0.01902161],\n",
       "       [0.06186721, 0.03793572, 0.00125186, ..., 0.00589374, 0.07875095,\n",
       "        0.01301639],\n",
       "       [0.00061804, 0.08263977, 0.41078746, ..., 0.00589166, 0.0191144 ,\n",
       "        0.00805557]], dtype=float32)"
      ]
     },
     "execution_count": 5,
     "metadata": {},
     "output_type": "execute_result"
    }
   ],
   "source": [
    "pred = model.predict(test_images)\n",
    "pred"
   ]
  },
  {
   "cell_type": "code",
   "execution_count": 6,
   "metadata": {},
   "outputs": [
    {
     "name": "stdout",
     "output_type": "stream",
     "text": [
      "10000/10000 [==============================] - 1s 129us/step\n",
      "[2.180106318283081, 0.3244999945163727]\n"
     ]
    }
   ],
   "source": [
    "print(model.evaluate(X_ver_image ,y_ver_label))"
   ]
  },
  {
   "cell_type": "code",
   "execution_count": 7,
   "metadata": {},
   "outputs": [],
   "source": [
    "sample[1] = pred\n",
    "sample.to_csv(\"submit2_1.csv\", sep=\",\", index=None, header=None)"
   ]
  }
 ],
 "metadata": {
  "kernelspec": {
   "display_name": "Python 3",
   "language": "python",
   "name": "python3"
  },
  "language_info": {
   "codemirror_mode": {
    "name": "ipython",
    "version": 3
   },
   "file_extension": ".py",
   "mimetype": "text/x-python",
   "name": "python",
   "nbconvert_exporter": "python",
   "pygments_lexer": "ipython3",
   "version": "3.6.9"
  }
 },
 "nbformat": 4,
 "nbformat_minor": 2
}
