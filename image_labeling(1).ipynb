{
 "cells": [
  {
   "cell_type": "markdown",
   "metadata": {},
   "source": [
    "# １回目\n",
    "・学習率を.0.5\n",
    "・活性化関数をsigmoid"
   ]
  },
  {
   "cell_type": "code",
   "execution_count": 1,
   "metadata": {},
   "outputs": [],
   "source": [
    "import numpy as np\n",
    "import pandas as pd\n",
    "from matplotlib import pyplot as plt\n",
    "from skimage import io"
   ]
  },
  {
   "cell_type": "code",
   "execution_count": 2,
   "metadata": {},
   "outputs": [
    {
     "name": "stdout",
     "output_type": "stream",
     "text": [
      "(50000, 2)\n",
      "(20, 2)\n",
      "(10000, 21)\n"
     ]
    }
   ],
   "source": [
    "labels= pd.read_csv(\"train_master.tsv\", sep=\"\\t\")\n",
    "master = pd.read_csv(\"label_master.tsv\", sep=\"\\t\")\n",
    "# テスト画像の枚数確認用\n",
    "sample = pd.read_csv(\"sample_submit.csv\", header=None, sep=\",\")\n",
    "\n",
    "print(labels.shape)\n",
    "print(master.shape)\n",
    "print(sample.shape)"
   ]
  },
  {
   "cell_type": "code",
   "execution_count": 3,
   "metadata": {},
   "outputs": [
    {
     "data": {
      "text/html": [
       "<div>\n",
       "<style scoped>\n",
       "    .dataframe tbody tr th:only-of-type {\n",
       "        vertical-align: middle;\n",
       "    }\n",
       "\n",
       "    .dataframe tbody tr th {\n",
       "        vertical-align: top;\n",
       "    }\n",
       "\n",
       "    .dataframe thead th {\n",
       "        text-align: right;\n",
       "    }\n",
       "</style>\n",
       "<table border=\"1\" class=\"dataframe\">\n",
       "  <thead>\n",
       "    <tr style=\"text-align: right;\">\n",
       "      <th></th>\n",
       "      <th>file_name</th>\n",
       "      <th>label_id</th>\n",
       "    </tr>\n",
       "  </thead>\n",
       "  <tbody>\n",
       "    <tr>\n",
       "      <th>0</th>\n",
       "      <td>train_00000.png</td>\n",
       "      <td>11</td>\n",
       "    </tr>\n",
       "    <tr>\n",
       "      <th>1</th>\n",
       "      <td>train_00001.png</td>\n",
       "      <td>15</td>\n",
       "    </tr>\n",
       "    <tr>\n",
       "      <th>2</th>\n",
       "      <td>train_00002.png</td>\n",
       "      <td>4</td>\n",
       "    </tr>\n",
       "    <tr>\n",
       "      <th>3</th>\n",
       "      <td>train_00003.png</td>\n",
       "      <td>14</td>\n",
       "    </tr>\n",
       "    <tr>\n",
       "      <th>4</th>\n",
       "      <td>train_00004.png</td>\n",
       "      <td>1</td>\n",
       "    </tr>\n",
       "  </tbody>\n",
       "</table>\n",
       "</div>"
      ],
      "text/plain": [
       "         file_name  label_id\n",
       "0  train_00000.png        11\n",
       "1  train_00001.png        15\n",
       "2  train_00002.png         4\n",
       "3  train_00003.png        14\n",
       "4  train_00004.png         1"
      ]
     },
     "execution_count": 3,
     "metadata": {},
     "output_type": "execute_result"
    }
   ],
   "source": [
    "labels.head()"
   ]
  },
  {
   "cell_type": "code",
   "execution_count": 4,
   "metadata": {},
   "outputs": [
    {
     "data": {
      "text/html": [
       "<div>\n",
       "<style scoped>\n",
       "    .dataframe tbody tr th:only-of-type {\n",
       "        vertical-align: middle;\n",
       "    }\n",
       "\n",
       "    .dataframe tbody tr th {\n",
       "        vertical-align: top;\n",
       "    }\n",
       "\n",
       "    .dataframe thead th {\n",
       "        text-align: right;\n",
       "    }\n",
       "</style>\n",
       "<table border=\"1\" class=\"dataframe\">\n",
       "  <thead>\n",
       "    <tr style=\"text-align: right;\">\n",
       "      <th></th>\n",
       "      <th>label_id</th>\n",
       "      <th>label_name</th>\n",
       "    </tr>\n",
       "  </thead>\n",
       "  <tbody>\n",
       "    <tr>\n",
       "      <th>0</th>\n",
       "      <td>0</td>\n",
       "      <td>aquatic_mammals</td>\n",
       "    </tr>\n",
       "    <tr>\n",
       "      <th>1</th>\n",
       "      <td>1</td>\n",
       "      <td>fish</td>\n",
       "    </tr>\n",
       "    <tr>\n",
       "      <th>2</th>\n",
       "      <td>2</td>\n",
       "      <td>flowers</td>\n",
       "    </tr>\n",
       "    <tr>\n",
       "      <th>3</th>\n",
       "      <td>3</td>\n",
       "      <td>food_containers</td>\n",
       "    </tr>\n",
       "    <tr>\n",
       "      <th>4</th>\n",
       "      <td>4</td>\n",
       "      <td>fruit_and_vegetables</td>\n",
       "    </tr>\n",
       "    <tr>\n",
       "      <th>5</th>\n",
       "      <td>5</td>\n",
       "      <td>household_electrical_devices</td>\n",
       "    </tr>\n",
       "    <tr>\n",
       "      <th>6</th>\n",
       "      <td>6</td>\n",
       "      <td>household_furniture</td>\n",
       "    </tr>\n",
       "    <tr>\n",
       "      <th>7</th>\n",
       "      <td>7</td>\n",
       "      <td>insects</td>\n",
       "    </tr>\n",
       "    <tr>\n",
       "      <th>8</th>\n",
       "      <td>8</td>\n",
       "      <td>large_carnivores</td>\n",
       "    </tr>\n",
       "    <tr>\n",
       "      <th>9</th>\n",
       "      <td>9</td>\n",
       "      <td>large_man-made_outdoor_things</td>\n",
       "    </tr>\n",
       "    <tr>\n",
       "      <th>10</th>\n",
       "      <td>10</td>\n",
       "      <td>large_natural_outdoor_scenes</td>\n",
       "    </tr>\n",
       "    <tr>\n",
       "      <th>11</th>\n",
       "      <td>11</td>\n",
       "      <td>large_omnivores_and_herbivores</td>\n",
       "    </tr>\n",
       "    <tr>\n",
       "      <th>12</th>\n",
       "      <td>12</td>\n",
       "      <td>medium_mammals</td>\n",
       "    </tr>\n",
       "    <tr>\n",
       "      <th>13</th>\n",
       "      <td>13</td>\n",
       "      <td>non-insect_invertebrates</td>\n",
       "    </tr>\n",
       "    <tr>\n",
       "      <th>14</th>\n",
       "      <td>14</td>\n",
       "      <td>people</td>\n",
       "    </tr>\n",
       "    <tr>\n",
       "      <th>15</th>\n",
       "      <td>15</td>\n",
       "      <td>reptiles</td>\n",
       "    </tr>\n",
       "    <tr>\n",
       "      <th>16</th>\n",
       "      <td>16</td>\n",
       "      <td>small_mammals</td>\n",
       "    </tr>\n",
       "    <tr>\n",
       "      <th>17</th>\n",
       "      <td>17</td>\n",
       "      <td>trees</td>\n",
       "    </tr>\n",
       "    <tr>\n",
       "      <th>18</th>\n",
       "      <td>18</td>\n",
       "      <td>vehicles_1</td>\n",
       "    </tr>\n",
       "    <tr>\n",
       "      <th>19</th>\n",
       "      <td>19</td>\n",
       "      <td>vehicles_2</td>\n",
       "    </tr>\n",
       "  </tbody>\n",
       "</table>\n",
       "</div>"
      ],
      "text/plain": [
       "    label_id                      label_name\n",
       "0          0                 aquatic_mammals\n",
       "1          1                            fish\n",
       "2          2                         flowers\n",
       "3          3                 food_containers\n",
       "4          4            fruit_and_vegetables\n",
       "5          5    household_electrical_devices\n",
       "6          6             household_furniture\n",
       "7          7                         insects\n",
       "8          8                large_carnivores\n",
       "9          9   large_man-made_outdoor_things\n",
       "10        10    large_natural_outdoor_scenes\n",
       "11        11  large_omnivores_and_herbivores\n",
       "12        12                  medium_mammals\n",
       "13        13        non-insect_invertebrates\n",
       "14        14                          people\n",
       "15        15                        reptiles\n",
       "16        16                   small_mammals\n",
       "17        17                           trees\n",
       "18        18                      vehicles_1\n",
       "19        19                      vehicles_2"
      ]
     },
     "execution_count": 4,
     "metadata": {},
     "output_type": "execute_result"
    }
   ],
   "source": [
    "# ラベルIDとラベル名の紐付け確認\n",
    "master"
   ]
  },
  {
   "cell_type": "code",
   "execution_count": 5,
   "metadata": {},
   "outputs": [
    {
     "name": "stdout",
     "output_type": "stream",
     "text": [
      "<class 'numpy.ndarray'> (50000, 32, 32, 3)\n"
     ]
    }
   ],
   "source": [
    "# labelsデータの順番と不整合にならないよう、ファイルの読み込み順に気を付ける\n",
    "train_images = []\n",
    "for fname in labels[\"file_name\"]:\n",
    "    path = \"./train/\" + fname\n",
    "    img = io.imread(path)\n",
    "    train_images.append(img)\n",
    "train_images = np.array(train_images)\n",
    "print(type(train_images), train_images.shape)"
   ]
  },
  {
   "cell_type": "code",
   "execution_count": 6,
   "metadata": {},
   "outputs": [
    {
     "name": "stdout",
     "output_type": "stream",
     "text": [
      "<class 'numpy.ndarray'> (10000, 32, 32, 3)\n"
     ]
    }
   ],
   "source": [
    "test_images = []\n",
    "for fname in sample[0]:\n",
    "    path = \"./test/\" + fname\n",
    "    img = io.imread(path)\n",
    "    test_images.append(img)\n",
    "test_images = np.array(test_images )\n",
    "print(type(test_images ), test_images .shape)"
   ]
  },
  {
   "cell_type": "code",
   "execution_count": 7,
   "metadata": {},
   "outputs": [
    {
     "data": {
      "image/png": "[encoded data removed]",
      "text/plain": [
       "<Figure size 864x360 with 10 Axes>"
      ]
     },
     "metadata": {
      "needs_background": "light"
     },
     "output_type": "display_data"
    }
   ],
   "source": [
    "plt.figure(figsize=(12,5))\n",
    "for i in range(10):\n",
    "    plt.subplot(2,5,i+1)\n",
    "    target_id = labels.loc[i,\"label_id\"]\n",
    "    label = master[master[\"label_id\"] == target_id][\"label_name\"].values[0]\n",
    "    plt.title(label)\n",
    "    plt.imshow(train_images[i])"
   ]
  },
  {
   "cell_type": "code",
   "execution_count": 8,
   "metadata": {},
   "outputs": [
    {
     "data": {
      "text/plain": [
       "19    2500\n",
       "18    2500\n",
       "1     2500\n",
       "2     2500\n",
       "3     2500\n",
       "4     2500\n",
       "5     2500\n",
       "6     2500\n",
       "7     2500\n",
       "8     2500\n",
       "9     2500\n",
       "10    2500\n",
       "11    2500\n",
       "12    2500\n",
       "13    2500\n",
       "14    2500\n",
       "15    2500\n",
       "16    2500\n",
       "17    2500\n",
       "0     2500\n",
       "Name: label_id, dtype: int64"
      ]
     },
     "execution_count": 8,
     "metadata": {},
     "output_type": "execute_result"
    }
   ],
   "source": [
    "labels[\"label_id\"].value_counts()"
   ]
  },
  {
   "cell_type": "code",
   "execution_count": 9,
   "metadata": {},
   "outputs": [],
   "source": [
    "train_images = train_images / 255\n",
    "test_images = test_images / 255"
   ]
  },
  {
   "cell_type": "code",
   "execution_count": 10,
   "metadata": {},
   "outputs": [
    {
     "data": {
      "text/plain": [
       "0        11\n",
       "1        15\n",
       "2         4\n",
       "3        14\n",
       "4         1\n",
       "         ..\n",
       "49995    16\n",
       "49996     7\n",
       "49997     8\n",
       "49998     7\n",
       "49999     1\n",
       "Name: label_id, Length: 50000, dtype: int64"
      ]
     },
     "execution_count": 10,
     "metadata": {},
     "output_type": "execute_result"
    }
   ],
   "source": [
    "y = labels[\"label_id\"]\n",
    "y"
   ]
  },
  {
   "cell_type": "code",
   "execution_count": 11,
   "metadata": {},
   "outputs": [
    {
     "name": "stderr",
     "output_type": "stream",
     "text": [
      "Using TensorFlow backend.\n"
     ]
    },
    {
     "data": {
      "text/plain": [
       "array([[0., 0., 0., ..., 0., 0., 0.],\n",
       "       [0., 0., 0., ..., 0., 0., 0.],\n",
       "       [0., 0., 0., ..., 0., 0., 0.],\n",
       "       ...,\n",
       "       [0., 0., 0., ..., 0., 0., 0.],\n",
       "       [0., 0., 0., ..., 0., 0., 0.],\n",
       "       [0., 1., 0., ..., 0., 0., 0.]], dtype=float32)"
      ]
     },
     "execution_count": 11,
     "metadata": {},
     "output_type": "execute_result"
    }
   ],
   "source": [
    "# 目的変数であるラベルデータをone-hot-encoding\n",
    "# output = [label1の確率, label2の確率, label3の確率, ..., label20の確率]　に変換\n",
    "from keras import utils\n",
    "y_categorical = utils.to_categorical(y)\n",
    "y_categorical"
   ]
  },
  {
   "cell_type": "code",
   "execution_count": 12,
   "metadata": {},
   "outputs": [
    {
     "data": {
      "text/plain": [
       "array([0., 0., 0., 0., 0., 0., 0., 0., 0., 0., 0., 1., 0., 0., 0., 0., 0.,\n",
       "       0., 0., 0.], dtype=float32)"
      ]
     },
     "execution_count": 12,
     "metadata": {},
     "output_type": "execute_result"
    }
   ],
   "source": [
    "y_categorical[0]"
   ]
  },
  {
   "cell_type": "code",
   "execution_count": 13,
   "metadata": {},
   "outputs": [
    {
     "name": "stdout",
     "output_type": "stream",
     "text": [
      "(40000, 32, 32, 3)\n",
      "(10000, 32, 32, 3)\n",
      "(40000, 20)\n",
      "(10000, 20)\n"
     ]
    }
   ],
   "source": [
    "# データを構築と検証データの２種類に分割\n",
    "# 学習データ50000枚中、40000枚を構築データ、残り10000枚を検証データ\n",
    "# 構築用画像をX_con_image、検証用画像をX_ver_image\n",
    "# 構築用画像のラベルをy_con_label、検証用画像のラベルをy_vre_label\n",
    "X_con_image, X_ver_image = np.split(train_images, [40000])\n",
    "y_con_label, y_ver_label = np.split(y_categorical, [40000])\n",
    "\n",
    "# 構築用画像\n",
    "print(X_con_image.shape)\n",
    "# 検証用画像\n",
    "print(X_ver_image.shape)\n",
    "# 構築用画像のラベル\n",
    "print(y_con_label.shape)\n",
    "# 検証用画像のラベル\n",
    "print(y_ver_label.shape)"
   ]
  },
  {
   "cell_type": "code",
   "execution_count": 14,
   "metadata": {},
   "outputs": [],
   "source": [
    "from keras.models import Sequential\n",
    "from keras.layers import Dense, Flatten, Activation\n",
    "from keras.layers import Conv2D, MaxPooling2D\n",
    "from keras import optimizers"
   ]
  },
  {
   "cell_type": "code",
   "execution_count": 15,
   "metadata": {},
   "outputs": [],
   "source": [
    "model = Sequential()\n",
    "#　畳み込み層\n",
    "model.add(Conv2D(filters=6, kernel_size=(3,3), padding=\"same\", input_shape=(32,32,3)))\n",
    "#　活性化関数＝\"sigmoid\"\n",
    "model.add(Activation(\"sigmoid\"))\n",
    "# プーリング層\n",
    "model.add(MaxPooling2D(pool_size=(2,2)))\n",
    "\n",
    "model.add(Conv2D(filters=12, kernel_size=(3,3), padding=\"same\"))\n",
    "model.add(Activation(\"sigmoid\"))\n",
    "model.add(MaxPooling2D(pool_size=(2,2)))\n",
    "#　畳み込み層やプーリング層と以下の全結合の間には必ず'Flatten'が必要\n",
    "model.add(Flatten())\n",
    "# 120ノード全結合層\n",
    "model.add(Dense(units=120))\n",
    "model.add(Activation(\"sigmoid\"))\n",
    "model.add(Dense(units=60))\n",
    "model.add(Activation(\"sigmoid\"))\n",
    "# 出力層：今回は2０種類の画像ラベリングなのでノードの数は20\n",
    "model.add(Dense(units=20))\n",
    "# 3つ以上の分類をする多値分類の時、'softmax'\n",
    "model.add(Activation(\"softmax\"))"
   ]
  },
  {
   "cell_type": "code",
   "execution_count": 16,
   "metadata": {},
   "outputs": [
    {
     "name": "stdout",
     "output_type": "stream",
     "text": [
      "Model: \"sequential_1\"\n",
      "_________________________________________________________________\n",
      "Layer (type)                 Output Shape              Param #   \n",
      "=================================================================\n",
      "conv2d_1 (Conv2D)            (None, 32, 32, 6)         168       \n",
      "_________________________________________________________________\n",
      "activation_1 (Activation)    (None, 32, 32, 6)         0         \n",
      "_________________________________________________________________\n",
      "max_pooling2d_1 (MaxPooling2 (None, 16, 16, 6)         0         \n",
      "_________________________________________________________________\n",
      "conv2d_2 (Conv2D)            (None, 16, 16, 12)        660       \n",
      "_________________________________________________________________\n",
      "activation_2 (Activation)    (None, 16, 16, 12)        0         \n",
      "_________________________________________________________________\n",
      "max_pooling2d_2 (MaxPooling2 (None, 8, 8, 12)          0         \n",
      "_________________________________________________________________\n",
      "flatten_1 (Flatten)          (None, 768)               0         \n",
      "_________________________________________________________________\n",
      "dense_1 (Dense)              (None, 120)               92280     \n",
      "_________________________________________________________________\n",
      "activation_3 (Activation)    (None, 120)               0         \n",
      "_________________________________________________________________\n",
      "dense_2 (Dense)              (None, 60)                7260      \n",
      "_________________________________________________________________\n",
      "activation_4 (Activation)    (None, 60)                0         \n",
      "_________________________________________________________________\n",
      "dense_3 (Dense)              (None, 20)                1220      \n",
      "_________________________________________________________________\n",
      "activation_5 (Activation)    (None, 20)                0         \n",
      "=================================================================\n",
      "Total params: 101,588\n",
      "Trainable params: 101,588\n",
      "Non-trainable params: 0\n",
      "_________________________________________________________________\n"
     ]
    }
   ],
   "source": [
    "model.summary()"
   ]
  },
  {
   "cell_type": "code",
   "execution_count": 17,
   "metadata": {},
   "outputs": [],
   "source": [
    "model.compile(loss=\"categorical_crossentropy\",\n",
    "              optimizer=optimizers.SGD(lr=0.5, momentum=0.9, decay=0.0, nesterov=True),\n",
    "              metrics=['accuracy']\n",
    "             )"
   ]
  },
  {
   "cell_type": "code",
   "execution_count": 18,
   "metadata": {},
   "outputs": [],
   "source": [
    "# 細かく分割した時サイズ\n",
    "batch_size=100\n",
    "# パラメータを探索する回数\n",
    "epochs=10"
   ]
  },
  {
   "cell_type": "code",
   "execution_count": 19,
   "metadata": {},
   "outputs": [
    {
     "name": "stdout",
     "output_type": "stream",
     "text": [
      "Train on 40000 samples, validate on 10000 samples\n",
      "Epoch 1/10\n",
      "40000/40000 [==============================] - 12s 292us/step - loss: 3.0092 - accuracy: 0.0502 - val_loss: 3.0206 - val_accuracy: 0.0484\n",
      "Epoch 2/10\n",
      "40000/40000 [==============================] - 12s 300us/step - loss: 3.0063 - accuracy: 0.0507 - val_loss: 3.0074 - val_accuracy: 0.0515\n",
      "Epoch 3/10\n",
      "40000/40000 [==============================] - 12s 302us/step - loss: 3.0055 - accuracy: 0.0498 - val_loss: 3.0082 - val_accuracy: 0.0472\n",
      "Epoch 4/10\n",
      "40000/40000 [==============================] - 12s 296us/step - loss: 3.0065 - accuracy: 0.0482 - val_loss: 3.0080 - val_accuracy: 0.0472\n",
      "Epoch 5/10\n",
      "40000/40000 [==============================] - 12s 306us/step - loss: 3.0061 - accuracy: 0.0503 - val_loss: 3.0128 - val_accuracy: 0.0494\n",
      "Epoch 6/10\n",
      "40000/40000 [==============================] - 12s 288us/step - loss: 3.0052 - accuracy: 0.0496 - val_loss: 3.0101 - val_accuracy: 0.0482\n",
      "Epoch 7/10\n",
      "40000/40000 [==============================] - 12s 304us/step - loss: 3.0058 - accuracy: 0.0502 - val_loss: 3.0008 - val_accuracy: 0.0480\n",
      "Epoch 8/10\n",
      "40000/40000 [==============================] - 18s 453us/step - loss: 3.0059 - accuracy: 0.0495 - val_loss: 3.0104 - val_accuracy: 0.0503\n",
      "Epoch 9/10\n",
      "40000/40000 [==============================] - 12s 299us/step - loss: 3.0049 - accuracy: 0.0503 - val_loss: 3.0102 - val_accuracy: 0.0503\n",
      "Epoch 10/10\n",
      "40000/40000 [==============================] - 12s 288us/step - loss: 3.0059 - accuracy: 0.0489 - val_loss: 3.0025 - val_accuracy: 0.0518\n"
     ]
    }
   ],
   "source": [
    "history = model.fit(X_con_image, y_con_label,\n",
    "                    batch_size=batch_size,\n",
    "                    epochs=epochs,\n",
    "                    verbose=1,\n",
    "                    validation_data=(X_ver_image, y_ver_label))"
   ]
  },
  {
   "cell_type": "code",
   "execution_count": 30,
   "metadata": {},
   "outputs": [
    {
     "data": {
      "image/png": "[encoded data removed]",
      "text/plain": [
       "<Figure size 1080x360 with 2 Axes>"
      ]
     },
     "metadata": {
      "needs_background": "light"
     },
     "output_type": "display_data"
    }
   ],
   "source": [
    "def learning_plot(history, epochs):\n",
    "    fig = plt.figure(figsize=(15,5))\n",
    "    plt.subplot(1,2,1)\n",
    "    plt.plot(range(1,epochs+1), history.history['loss'])\n",
    "    plt.plot(range(1,epochs+1), history.history['val_loss'])\n",
    "    plt.title('model loss')\n",
    "    plt.xlabel('epoch')\n",
    "    plt.xticks(range(1,epochs+1))\n",
    "    plt.ylabel('loss')\n",
    "    plt.legend(['Construction', 'Verification'], loc='upper right')\n",
    "    plt.subplot(1,2,2)\n",
    "    plt.plot(range(1,epochs+1), history.history['accuracy'])\n",
    "    plt.plot(range(1,epochs+1), history.history['val_accuracy'])\n",
    "    plt.title('model accuracy')\n",
    "    plt.xlabel('epoch')\n",
    "    plt.xticks(range(1,epochs+1))\n",
    "    plt.ylabel('accuracy')\n",
    "    plt.legend(['Verification', 'Verification'], loc='upper left')\n",
    "    plt.show()  \n",
    "    \n",
    "learning_plot(history,epochs)"
   ]
  },
  {
   "cell_type": "code",
   "execution_count": 22,
   "metadata": {},
   "outputs": [
    {
     "data": {
      "text/plain": [
       "array([[0.04889179, 0.04603487, 0.05389638, ..., 0.04840792, 0.03947305,\n",
       "        0.0405113 ],\n",
       "       [0.04889173, 0.04603492, 0.05389633, ..., 0.04840765, 0.03947326,\n",
       "        0.04051019],\n",
       "       [0.0488917 , 0.04603502, 0.05389614, ..., 0.04840773, 0.03947327,\n",
       "        0.04051031],\n",
       "       ...,\n",
       "       [0.04889165, 0.04603499, 0.0538962 , ..., 0.0484078 , 0.03947341,\n",
       "        0.04051024],\n",
       "       [0.04889174, 0.04603487, 0.05389624, ..., 0.04840764, 0.03947326,\n",
       "        0.04051017],\n",
       "       [0.04889176, 0.04603492, 0.05389621, ..., 0.04840782, 0.03947326,\n",
       "        0.04051057]], dtype=float32)"
      ]
     },
     "execution_count": 22,
     "metadata": {},
     "output_type": "execute_result"
    }
   ],
   "source": [
    "pred = model.predict(test_images)\n",
    "pred"
   ]
  },
  {
   "cell_type": "code",
   "execution_count": 23,
   "metadata": {},
   "outputs": [],
   "source": [
    "# pred = pred.argmax(axis=1)\n",
    "# pred"
   ]
  },
  {
   "cell_type": "code",
   "execution_count": 28,
   "metadata": {},
   "outputs": [],
   "source": [
    "sample[1] = pred\n",
    "sample.to_csv(\"submit1_1.csv\", sep=\",\", index=None, header=None)"
   ]
  },
  {
   "cell_type": "code",
   "execution_count": 29,
   "metadata": {},
   "outputs": [
    {
     "name": "stdout",
     "output_type": "stream",
     "text": [
      "10000/10000 [==============================] - 2s 151us/step\n",
      "[3.002460385131836, 0.05180000141263008]\n"
     ]
    }
   ],
   "source": [
    "print(model.evaluate(X_ver_image ,y_ver_label))"
   ]
  },
  {
   "cell_type": "code",
   "execution_count": null,
   "metadata": {},
   "outputs": [],
   "source": []
  }
 ],
 "metadata": {
  "kernelspec": {
   "display_name": "Python 3",
   "language": "python",
   "name": "python3"
  },
  "language_info": {
   "codemirror_mode": {
    "name": "ipython",
    "version": 3
   },
   "file_extension": ".py",
   "mimetype": "text/x-python",
   "name": "python",
   "nbconvert_exporter": "python",
   "pygments_lexer": "ipython3",
   "version": "3.6.9"
  }
 },
 "nbformat": 4,
 "nbformat_minor": 2
}
