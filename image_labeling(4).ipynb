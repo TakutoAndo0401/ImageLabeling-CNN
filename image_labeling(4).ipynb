{
 "cells": [
  {
   "cell_type": "markdown",
   "metadata": {},
   "source": [
    "- オプティマイザーをAdamに変更\n",
    "- filter数を減らす\n",
    "- 層の数はそのまま3つ"
   ]
  },
  {
   "cell_type": "code",
   "execution_count": 1,
   "metadata": {},
   "outputs": [
    {
     "name": "stderr",
     "output_type": "stream",
     "text": [
      "Using TensorFlow backend.\n"
     ]
    },
    {
     "name": "stdout",
     "output_type": "stream",
     "text": [
      "<class 'numpy.ndarray'> (50000, 32, 32, 3)\n",
      "<class 'numpy.ndarray'> (10000, 32, 32, 3)\n",
      "Train on 40000 samples, validate on 10000 samples\n",
      "Epoch 1/30\n",
      "40000/40000 [==============================] - 22s 552us/step - loss: 2.5139 - accuracy: 0.2183 - val_loss: 2.2219 - val_accuracy: 0.3210\n",
      "Epoch 2/30\n",
      "40000/40000 [==============================] - 23s 574us/step - loss: 2.1026 - accuracy: 0.3460 - val_loss: 2.0067 - val_accuracy: 0.3715\n",
      "Epoch 3/30\n",
      "40000/40000 [==============================] - 23s 570us/step - loss: 1.9113 - accuracy: 0.4047 - val_loss: 1.8787 - val_accuracy: 0.4216\n",
      "Epoch 4/30\n",
      "40000/40000 [==============================] - 21s 536us/step - loss: 1.7831 - accuracy: 0.4430 - val_loss: 1.8220 - val_accuracy: 0.4395\n",
      "Epoch 5/30\n",
      "40000/40000 [==============================] - 20s 505us/step - loss: 1.6712 - accuracy: 0.4766 - val_loss: 1.7427 - val_accuracy: 0.4574\n",
      "Epoch 6/30\n",
      "40000/40000 [==============================] - 20s 496us/step - loss: 1.5745 - accuracy: 0.5066 - val_loss: 1.7370 - val_accuracy: 0.4642\n",
      "Epoch 7/30\n",
      "40000/40000 [==============================] - 20s 489us/step - loss: 1.4721 - accuracy: 0.5360 - val_loss: 1.6706 - val_accuracy: 0.4901\n",
      "Epoch 8/30\n",
      "40000/40000 [==============================] - 20s 491us/step - loss: 1.3880 - accuracy: 0.5621 - val_loss: 1.6266 - val_accuracy: 0.5052\n",
      "Epoch 9/30\n",
      "40000/40000 [==============================] - 19s 487us/step - loss: 1.2999 - accuracy: 0.5877 - val_loss: 1.6659 - val_accuracy: 0.4950\n",
      "Epoch 10/30\n",
      "40000/40000 [==============================] - 19s 484us/step - loss: 1.2233 - accuracy: 0.6124 - val_loss: 1.6657 - val_accuracy: 0.5034\n",
      "Epoch 11/30\n",
      "40000/40000 [==============================] - 19s 483us/step - loss: 1.1397 - accuracy: 0.6345 - val_loss: 1.6541 - val_accuracy: 0.5103\n",
      "Epoch 12/30\n",
      "40000/40000 [==============================] - 19s 485us/step - loss: 1.0648 - accuracy: 0.6576 - val_loss: 1.6977 - val_accuracy: 0.5035\n",
      "Epoch 13/30\n",
      "40000/40000 [==============================] - 20s 502us/step - loss: 0.9902 - accuracy: 0.6824 - val_loss: 1.7803 - val_accuracy: 0.5008\n",
      "Epoch 14/30\n",
      "40000/40000 [==============================] - 20s 491us/step - loss: 0.9225 - accuracy: 0.7014 - val_loss: 1.8743 - val_accuracy: 0.4960\n",
      "Epoch 15/30\n",
      "40000/40000 [==============================] - 20s 497us/step - loss: 0.8485 - accuracy: 0.7228 - val_loss: 1.8751 - val_accuracy: 0.4966\n",
      "Epoch 16/30\n",
      "40000/40000 [==============================] - 20s 495us/step - loss: 0.7816 - accuracy: 0.7462 - val_loss: 1.9571 - val_accuracy: 0.4997\n",
      "Epoch 17/30\n",
      "40000/40000 [==============================] - 20s 495us/step - loss: 0.7139 - accuracy: 0.7657 - val_loss: 2.0504 - val_accuracy: 0.4948\n",
      "Epoch 18/30\n",
      "40000/40000 [==============================] - 20s 494us/step - loss: 0.6470 - accuracy: 0.7896 - val_loss: 2.1604 - val_accuracy: 0.4888\n",
      "Epoch 19/30\n",
      "40000/40000 [==============================] - 20s 490us/step - loss: 0.6040 - accuracy: 0.8005 - val_loss: 2.2919 - val_accuracy: 0.4846\n",
      "Epoch 20/30\n",
      "40000/40000 [==============================] - 20s 488us/step - loss: 0.5331 - accuracy: 0.8223 - val_loss: 2.4383 - val_accuracy: 0.4845\n",
      "Epoch 21/30\n",
      "40000/40000 [==============================] - 20s 489us/step - loss: 0.4824 - accuracy: 0.8397 - val_loss: 2.5921 - val_accuracy: 0.4707\n",
      "Epoch 22/30\n",
      "40000/40000 [==============================] - 20s 488us/step - loss: 0.4393 - accuracy: 0.8529 - val_loss: 2.6424 - val_accuracy: 0.4838\n",
      "Epoch 23/30\n",
      "40000/40000 [==============================] - 19s 486us/step - loss: 0.3920 - accuracy: 0.8699 - val_loss: 2.8597 - val_accuracy: 0.4820\n",
      "Epoch 24/30\n",
      "40000/40000 [==============================] - 19s 485us/step - loss: 0.3505 - accuracy: 0.8806 - val_loss: 3.0019 - val_accuracy: 0.4748\n",
      "Epoch 25/30\n",
      "40000/40000 [==============================] - 20s 489us/step - loss: 0.3179 - accuracy: 0.8935 - val_loss: 3.1303 - val_accuracy: 0.4740\n",
      "Epoch 26/30\n",
      "40000/40000 [==============================] - 20s 490us/step - loss: 0.2968 - accuracy: 0.8997 - val_loss: 3.2586 - val_accuracy: 0.4799\n",
      "Epoch 27/30\n",
      "40000/40000 [==============================] - 20s 489us/step - loss: 0.2587 - accuracy: 0.9131 - val_loss: 3.4914 - val_accuracy: 0.4722\n",
      "Epoch 28/30\n",
      "40000/40000 [==============================] - 20s 491us/step - loss: 0.2392 - accuracy: 0.9183 - val_loss: 3.5479 - val_accuracy: 0.4740\n",
      "Epoch 29/30\n",
      "40000/40000 [==============================] - 20s 502us/step - loss: 0.2374 - accuracy: 0.9194 - val_loss: 3.7317 - val_accuracy: 0.4725\n",
      "Epoch 30/30\n",
      "40000/40000 [==============================] - 20s 503us/step - loss: 0.2181 - accuracy: 0.9245 - val_loss: 3.8525 - val_accuracy: 0.4775\n"
     ]
    }
   ],
   "source": [
    "import numpy as np\n",
    "import pandas as pd\n",
    "from matplotlib import pyplot as plt\n",
    "from skimage import io\n",
    "from keras import utils\n",
    "from keras.models import Sequential\n",
    "from keras.layers import Dense, Flatten, Activation\n",
    "from keras.layers import Conv2D, MaxPooling2D\n",
    "from keras import optimizers\n",
    "\n",
    "labels= pd.read_csv(\"train_master.tsv\", sep=\"\\t\")\n",
    "master = pd.read_csv(\"label_master.tsv\", sep=\"\\t\")\n",
    "sample = pd.read_csv(\"sample_submit.csv\", header=None, sep=\",\")\n",
    "\n",
    "train_images = []\n",
    "for fname in labels[\"file_name\"]:\n",
    "    path = \"./train/\" + fname\n",
    "    img = io.imread(path)\n",
    "    train_images.append(img)\n",
    "train_images = np.array(train_images)\n",
    "print(type(train_images), train_images.shape)\n",
    "\n",
    "test_images = []\n",
    "for fname in sample[0]:\n",
    "    path = \"./test/\" + fname\n",
    "    img = io.imread(path)\n",
    "    test_images.append(img)\n",
    "test_images = np.array(test_images )\n",
    "print(type(test_images ), test_images.shape)\n",
    "\n",
    "train_images = train_images / 255\n",
    "test_images = test_images / 255\n",
    "\n",
    "y = labels[\"label_id\"]\n",
    "\n",
    "y_categorical = utils.to_categorical(y)\n",
    "y_categorical\n",
    "\n",
    "X_con_image, X_ver_image = np.split(train_images, [40000])\n",
    "y_con_label, y_ver_label = np.split(y_categorical, [40000])\n",
    "\n",
    "model = Sequential()\n",
    "\n",
    "model.add(Conv2D(filters=16, kernel_size=(3,3), padding=\"same\", input_shape=(32,32,3)))\n",
    "model.add(Activation(\"relu\"))\n",
    "model.add(MaxPooling2D(pool_size=(2,2)))\n",
    "\n",
    "model.add(Conv2D(filters=32, kernel_size=(3,3), padding=\"same\"))\n",
    "model.add(Activation(\"relu\"))\n",
    "model.add(MaxPooling2D(pool_size=(2,2)))\n",
    "\n",
    "model.add(Conv2D(filters=64, kernel_size=(3,3), padding=\"same\"))\n",
    "model.add(Activation(\"relu\"))\n",
    "model.add(MaxPooling2D(pool_size=(2,2)))\n",
    "\n",
    "model.add(Flatten())\n",
    "\n",
    "model.add(Dense(units=240))\n",
    "model.add(Activation(\"relu\"))\n",
    "model.add(Dense(units=120))\n",
    "model.add(Activation(\"relu\"))\n",
    "model.add(Dense(units=20))\n",
    "model.add(Activation(\"softmax\"))\n",
    "\n",
    "model.compile(loss=\"categorical_crossentropy\",\n",
    "              optimizer=optimizers.Adam(),\n",
    "              metrics=[\"accuracy\"])\n",
    "\n",
    "batch_size=100\n",
    "epochs=30\n",
    "              \n",
    "history = model.fit(X_con_image, y_con_label,\n",
    "                    batch_size=batch_size,\n",
    "                    epochs=epochs,\n",
    "                    verbose=1,\n",
    "                    validation_data=(X_ver_image, y_ver_label))"
   ]
  },
  {
   "cell_type": "code",
   "execution_count": 6,
   "metadata": {},
   "outputs": [
    {
     "data": {
      "image/png": "[encoded data removed]",
      "text/plain": [
       "<Figure size 1080x360 with 2 Axes>"
      ]
     },
     "metadata": {
      "needs_background": "light"
     },
     "output_type": "display_data"
    }
   ],
   "source": [
    "def learning_plot(history, epochs):\n",
    "    fig = plt.figure(figsize=(15,5))\n",
    "    plt.subplot(1,2,1)\n",
    "    plt.plot(range(1,epochs+1), history.history['loss'])\n",
    "    plt.plot(range(1,epochs+1), history.history['val_loss'])\n",
    "    plt.title('model loss')\n",
    "    plt.xlabel('epoch')\n",
    "    plt.xticks(range(1,epochs+1))\n",
    "    plt.ylabel('loss')\n",
    "    plt.legend(['Construction', 'Verification'], loc='upper right')\n",
    "    plt.subplot(1,2,2)\n",
    "    plt.plot(range(1,epochs+1), history.history['accuracy'])\n",
    "    plt.plot(range(1,epochs+1), history.history['val_accuracy'])\n",
    "    plt.title('model accuracy')\n",
    "    plt.xlabel('epoch')\n",
    "    plt.xticks(range(1,epochs+1))\n",
    "    plt.ylabel('accuracy')\n",
    "    plt.legend(['Verification', 'Verification'], loc='upper left')\n",
    "    plt.show()    \n",
    "    \n",
    "learning_plot(history,epochs)"
   ]
  },
  {
   "cell_type": "code",
   "execution_count": 5,
   "metadata": {},
   "outputs": [
    {
     "name": "stdout",
     "output_type": "stream",
     "text": [
      "[[1.9504766e-01 2.0874561e-05 2.2307651e-11 ... 2.2051339e-03\n",
      "  7.8409874e-05 1.1865790e-03]\n",
      " [7.4039381e-06 7.4725649e-05 2.8106948e-08 ... 6.4462853e-08\n",
      "  9.5893382e-05 9.5543469e-11]\n",
      " [9.9275452e-01 9.1348684e-06 1.6979998e-10 ... 1.9777715e-09\n",
      "  2.8808437e-08 1.9391379e-08]\n",
      " ...\n",
      " [2.0465117e-05 1.2064711e-03 5.6735161e-07 ... 1.1644665e-03\n",
      "  4.7949824e-04 6.1532950e-07]\n",
      " [1.5796066e-05 1.5531154e-04 2.9575767e-04 ... 1.7079252e-06\n",
      "  8.2759082e-01 1.0120836e-03]\n",
      " [1.0533214e-16 7.8663128e-05 1.1143396e-01 ... 1.8708573e-11\n",
      "  1.4806272e-06 1.1609674e-05]]\n"
     ]
    }
   ],
   "source": [
    "pred = model.predict(test_images)\n",
    "print(pred)\n",
    "sample[1] = pred\n",
    "sample.to_csv(\"submit4_1.csv\", sep=\",\", index=None, header=None)"
   ]
  },
  {
   "cell_type": "code",
   "execution_count": 4,
   "metadata": {},
   "outputs": [
    {
     "name": "stdout",
     "output_type": "stream",
     "text": [
      "10000/10000 [==============================] - 2s 168us/step\n",
      "[3.852484819030762, 0.47749999165534973]\n"
     ]
    }
   ],
   "source": [
    "print(model.evaluate(X_ver_image ,y_ver_label  ))"
   ]
  }
 ],
 "metadata": {
  "kernelspec": {
   "display_name": "Python 3",
   "language": "python",
   "name": "python3"
  },
  "language_info": {
   "codemirror_mode": {
    "name": "ipython",
    "version": 3
   },
   "file_extension": ".py",
   "mimetype": "text/x-python",
   "name": "python",
   "nbconvert_exporter": "python",
   "pygments_lexer": "ipython3",
   "version": "3.6.9"
  }
 },
 "nbformat": 4,
 "nbformat_minor": 2
}
