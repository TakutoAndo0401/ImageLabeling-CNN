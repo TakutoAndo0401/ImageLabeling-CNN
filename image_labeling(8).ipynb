{
 "cells": [
  {
   "cell_type": "code",
   "execution_count": 4,
   "metadata": {},
   "outputs": [
    {
     "name": "stdout",
     "output_type": "stream",
     "text": [
      "<class 'numpy.ndarray'> (50000, 32, 32, 3)\n",
      "<class 'numpy.ndarray'> (10000, 32, 32, 3)\n",
      "Train on 40000 samples, validate on 10000 samples\n",
      "Epoch 1/20\n",
      "40000/40000 [==============================] - 541s 14ms/step - loss: 2.6235 - accuracy: 0.2051 - val_loss: 2.4762 - val_accuracy: 0.2455\n",
      "Epoch 2/20\n",
      "40000/40000 [==============================] - 554s 14ms/step - loss: 2.3361 - accuracy: 0.2840 - val_loss: 2.2789 - val_accuracy: 0.2927\n",
      "Epoch 3/20\n",
      "40000/40000 [==============================] - 567s 14ms/step - loss: 2.2027 - accuracy: 0.3205 - val_loss: 2.2103 - val_accuracy: 0.3193\n",
      "Epoch 4/20\n",
      "40000/40000 [==============================] - 541s 14ms/step - loss: 2.1092 - accuracy: 0.3444 - val_loss: 2.2540 - val_accuracy: 0.3006\n",
      "Epoch 5/20\n",
      "40000/40000 [==============================] - 506s 13ms/step - loss: 2.0413 - accuracy: 0.3671 - val_loss: 2.0895 - val_accuracy: 0.3447\n",
      "Epoch 6/20\n",
      "40000/40000 [==============================] - 468s 12ms/step - loss: 1.9819 - accuracy: 0.3841 - val_loss: 1.9665 - val_accuracy: 0.3900\n",
      "Epoch 7/20\n",
      "40000/40000 [==============================] - 512s 13ms/step - loss: 1.9306 - accuracy: 0.3995 - val_loss: 1.9827 - val_accuracy: 0.3840\n",
      "Epoch 8/20\n",
      "40000/40000 [==============================] - 469s 12ms/step - loss: 1.8857 - accuracy: 0.4155 - val_loss: 1.8728 - val_accuracy: 0.4187\n",
      "Epoch 9/20\n",
      "40000/40000 [==============================] - 467s 12ms/step - loss: 1.8472 - accuracy: 0.4233 - val_loss: 1.8432 - val_accuracy: 0.4229\n",
      "Epoch 10/20\n",
      "40000/40000 [==============================] - 465s 12ms/step - loss: 1.8091 - accuracy: 0.4367 - val_loss: 1.8685 - val_accuracy: 0.4208\n",
      "Epoch 11/20\n",
      "40000/40000 [==============================] - 464s 12ms/step - loss: 1.7754 - accuracy: 0.4451 - val_loss: 2.0212 - val_accuracy: 0.3635\n",
      "Epoch 12/20\n",
      "40000/40000 [==============================] - 462s 12ms/step - loss: 1.7426 - accuracy: 0.4564 - val_loss: 1.7740 - val_accuracy: 0.4520\n",
      "Epoch 13/20\n",
      "40000/40000 [==============================] - 461s 12ms/step - loss: 1.7108 - accuracy: 0.4659 - val_loss: 1.7705 - val_accuracy: 0.4576\n",
      "Epoch 14/20\n",
      "40000/40000 [==============================] - 460s 12ms/step - loss: 1.6859 - accuracy: 0.4743 - val_loss: 1.7283 - val_accuracy: 0.4599\n",
      "Epoch 15/20\n",
      "40000/40000 [==============================] - 460s 11ms/step - loss: 1.6595 - accuracy: 0.4796 - val_loss: 1.7563 - val_accuracy: 0.4510\n",
      "Epoch 16/20\n",
      "40000/40000 [==============================] - 458s 11ms/step - loss: 1.6344 - accuracy: 0.4858 - val_loss: 1.8618 - val_accuracy: 0.4079\n",
      "Epoch 17/20\n",
      "40000/40000 [==============================] - 458s 11ms/step - loss: 1.6080 - accuracy: 0.4962 - val_loss: 1.6730 - val_accuracy: 0.4873\n",
      "Epoch 18/20\n",
      "40000/40000 [==============================] - 457s 11ms/step - loss: 1.5859 - accuracy: 0.5012 - val_loss: 1.6569 - val_accuracy: 0.4871\n",
      "Epoch 19/20\n",
      "40000/40000 [==============================] - 458s 11ms/step - loss: 1.5621 - accuracy: 0.5100 - val_loss: 1.6446 - val_accuracy: 0.4845\n",
      "Epoch 20/20\n",
      "40000/40000 [==============================] - 457s 11ms/step - loss: 1.5456 - accuracy: 0.5143 - val_loss: 1.6110 - val_accuracy: 0.5017\n"
     ]
    }
   ],
   "source": [
    "import numpy as np\n",
    "import pandas as pd\n",
    "from matplotlib import pyplot as plt\n",
    "from skimage import io\n",
    "from keras import utils\n",
    "from keras.models import Sequential\n",
    "from keras.layers import Dense, Flatten,Dropout, Activation\n",
    "from keras.layers.normalization import BatchNormalization\n",
    "from keras.layers.pooling import GlobalAveragePooling2D\n",
    "from keras.layers import Conv2D, MaxPooling2D\n",
    "from keras import optimizers\n",
    "\n",
    "labels= pd.read_csv(\"train_master.tsv\", sep=\"\\t\")\n",
    "master = pd.read_csv(\"label_master.tsv\", sep=\"\\t\")\n",
    "sample = pd.read_csv(\"sample_submit.csv\", header=None, sep=\",\")\n",
    "\n",
    "train_images = []\n",
    "for fname in labels[\"file_name\"]:\n",
    "    path = \"./train/\" + fname\n",
    "    img = io.imread(path)\n",
    "    train_images.append(img)\n",
    "train_images = np.array(train_images)\n",
    "print(type(train_images), train_images.shape)\n",
    "\n",
    "test_images = []\n",
    "for fname in sample[0]:\n",
    "    path = \"./test/\" + fname\n",
    "    img = io.imread(path)\n",
    "    test_images.append(img)\n",
    "test_images = np.array(test_images )\n",
    "print(type(test_images ), test_images.shape)\n",
    "\n",
    "train_images = train_images / 255\n",
    "test_images = test_images / 255\n",
    "\n",
    "y = labels[\"label_id\"]\n",
    "\n",
    "y_categorical = utils.to_categorical(y)\n",
    "y_categorical\n",
    "\n",
    "X_con_image, X_ver_image = np.split(train_images, [40000])\n",
    "y_con_label, y_ver_label = np.split(y_categorical, [40000])\n",
    "\n",
    "model = Sequential()\n",
    "\n",
    "model.add(Conv2D(filters=64, kernel_size=(3,3), padding=\"same\", input_shape=(32,32,3)))\n",
    "model.add(Activation(\"relu\"))\n",
    "model.add(BatchNormalization())\n",
    "model.add(Dropout(0.25))\n",
    "\n",
    "model.add(Conv2D(filters=64, kernel_size=(3,3), padding=\"same\"))\n",
    "model.add(Activation(\"relu\"))\n",
    "model.add(BatchNormalization())\n",
    "model.add(Dropout(0.25))\n",
    "\n",
    "model.add(Conv2D(filters=64, kernel_size=(3,3), padding=\"same\"))\n",
    "model.add(Activation(\"relu\"))\n",
    "model.add(BatchNormalization())\n",
    "model.add(Dropout(0.25))\n",
    "\n",
    "model.add(Conv2D(filters=64, kernel_size=(3,3), padding=\"same\"))\n",
    "model.add(Activation(\"relu\"))\n",
    "model.add(BatchNormalization())\n",
    "model.add(Dropout(0.25))\n",
    "\n",
    "model.add(Conv2D(filters=64, kernel_size=(3,3), padding=\"same\"))\n",
    "model.add(Activation(\"relu\"))\n",
    "model.add(BatchNormalization())\n",
    "model.add(Dropout(0.25))\n",
    "\n",
    "model.add(MaxPooling2D(pool_size=(2, 2)))\n",
    "model.add(GlobalAveragePooling2D())\n",
    "\n",
    "model.add(Dense(units=20))\n",
    "model.add(Activation(\"softmax\"))\n",
    "\n",
    "model.compile(loss=\"categorical_crossentropy\",\n",
    "             optimizer=optimizers.rmsprop(lr=0.0001, decay=1e-6),\n",
    "              metrics=[\"accuracy\"])\n",
    "\n",
    "batch_size=32\n",
    "epochs=10\n",
    "\n",
    "history = model.fit(X_con_image, y_con_label,\n",
    "                    batch_size=batch_size,\n",
    "                    epochs=epochs,\n",
    "                    verbose=1,\n",
    "                    validation_data=(X_ver_image, y_ver_label))"
   ]
  },
  {
   "cell_type": "code",
   "execution_count": 5,
   "metadata": {},
   "outputs": [
    {
     "data": {
      "image/png": "[encoded data removed]",
      "text/plain": [
       "<Figure size 1080x360 with 1 Axes>"
      ]
     },
     "metadata": {
      "needs_background": "light"
     },
     "output_type": "display_data"
    }
   ],
   "source": [
    "def learning_plot(history, epochs):\n",
    "    fig = plt.figure(figsize=(15,5))\n",
    "    plt.subplot(1,1,1)\n",
    "    plt.plot(range(1,epochs+1), history.history['loss'])\n",
    "    plt.plot(range(1,epochs+1), history.history['val_loss'])\n",
    "    plt.title('model loss')\n",
    "    plt.xlabel('epoch')\n",
    "    plt.xticks(range(1,epochs+1))\n",
    "    plt.ylabel('loss')\n",
    "    plt.legend(['Construction', 'Verification'], loc='upper right')\n",
    "    plt.show()\n",
    "    \n",
    "learning_plot(history,epochs)"
   ]
  },
  {
   "cell_type": "code",
   "execution_count": 6,
   "metadata": {},
   "outputs": [
    {
     "name": "stdout",
     "output_type": "stream",
     "text": [
      "10000/10000 [==============================] - 24s 2ms/step\n",
      "[1.6109882419586181, 0.5016999840736389]\n"
     ]
    }
   ],
   "source": [
    "print(model.evaluate(X_ver_image ,y_ver_label))"
   ]
  },
  {
   "cell_type": "code",
   "execution_count": null,
   "metadata": {},
   "outputs": [],
   "source": [
    "pred = model.predict(test_images)\n",
    "\n",
    "pred = pred.argmax(axis=1)\n",
    "print(pred)\n",
    "\n",
    "sample[1] = pred\n",
    "sample.to_csv(\"submit9.csv\", sep=\",\", index=None, header=None)"
   ]
  },
  {
   "cell_type": "code",
   "execution_count": null,
   "metadata": {},
   "outputs": [],
   "source": []
  }
 ],
 "metadata": {
  "kernelspec": {
   "display_name": "Python 3",
   "language": "python",
   "name": "python3"
  },
  "language_info": {
   "codemirror_mode": {
    "name": "ipython",
    "version": 3
   },
   "file_extension": ".py",
   "mimetype": "text/x-python",
   "name": "python",
   "nbconvert_exporter": "python",
   "pygments_lexer": "ipython3",
   "version": "3.7.6"
  }
 },
 "nbformat": 4,
 "nbformat_minor": 2
}
