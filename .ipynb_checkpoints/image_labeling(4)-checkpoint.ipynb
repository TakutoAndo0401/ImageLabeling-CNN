{
 "cells": [
  {
   "cell_type": "markdown",
   "metadata": {},
   "source": [
    "- オプティマイザーをAdamに変更\n",
    "- filter数を減らす\n",
    "- 層の数はそのまま3つ"
   ]
  },
  {
   "cell_type": "code",
   "execution_count": null,
   "metadata": {},
   "outputs": [
    {
     "name": "stderr",
     "output_type": "stream",
     "text": [
      "Using TensorFlow backend.\n"
     ]
    },
    {
     "name": "stdout",
     "output_type": "stream",
     "text": [
      "<class 'numpy.ndarray'> (50000, 32, 32, 3)\n",
      "<class 'numpy.ndarray'> (10000, 32, 32, 3)\n",
      "Train on 40000 samples, validate on 10000 samples\n",
      "Epoch 1/30\n",
      "40000/40000 [==============================] - 25s 621us/step - loss: 2.4733 - accuracy: 0.2349 - val_loss: 2.1968 - val_accuracy: 0.3263\n",
      "Epoch 2/30\n",
      "40000/40000 [==============================] - 21s 514us/step - loss: 2.0726 - accuracy: 0.3535 - val_loss: 1.9690 - val_accuracy: 0.3927\n",
      "Epoch 3/30\n",
      "40000/40000 [==============================] - 22s 538us/step - loss: 1.8983 - accuracy: 0.4095 - val_loss: 1.9428 - val_accuracy: 0.3926\n",
      "Epoch 4/30\n",
      "25500/40000 [==================>...........] - ETA: 7s - loss: 1.7699 - accuracy: 0.4447"
     ]
    }
   ],
   "source": [
    "import numpy as np\n",
    "import pandas as pd\n",
    "from matplotlib import pyplot as plt\n",
    "from skimage import io\n",
    "from keras import utils\n",
    "from keras.models import Sequential\n",
    "from keras.layers import Dense, Flatten, Activation\n",
    "from keras.layers import Conv2D, MaxPooling2D\n",
    "from keras import optimizers\n",
    "\n",
    "labels= pd.read_csv(\"train_master.tsv\", sep=\"\\t\")\n",
    "master = pd.read_csv(\"label_master.tsv\", sep=\"\\t\")\n",
    "sample = pd.read_csv(\"sample_submit.csv\", header=None, sep=\",\")\n",
    "\n",
    "train_images = []\n",
    "for fname in labels[\"file_name\"]:\n",
    "    path = \"./train/\" + fname\n",
    "    img = io.imread(path)\n",
    "    train_images.append(img)\n",
    "train_images = np.array(train_images)\n",
    "print(type(train_images), train_images.shape)\n",
    "\n",
    "test_images = []\n",
    "for fname in sample[0]:\n",
    "    path = \"./test/\" + fname\n",
    "    img = io.imread(path)\n",
    "    test_images.append(img)\n",
    "test_images = np.array(test_images )\n",
    "print(type(test_images ), test_images.shape)\n",
    "\n",
    "train_images = train_images / 255\n",
    "test_images = test_images / 255\n",
    "\n",
    "y = labels[\"label_id\"]\n",
    "\n",
    "y_categorical = utils.to_categorical(y)\n",
    "y_categorical\n",
    "\n",
    "X_con_image, X_ver_image = np.split(train_images, [40000])\n",
    "y_con_label, y_ver_label = np.split(y_categorical, [40000])\n",
    "\n",
    "model = Sequential()\n",
    "\n",
    "model.add(Conv2D(filters=16, kernel_size=(3,3), padding=\"same\", input_shape=(32,32,3)))\n",
    "model.add(Activation(\"relu\"))\n",
    "model.add(MaxPooling2D(pool_size=(2,2)))\n",
    "\n",
    "model.add(Conv2D(filters=32, kernel_size=(3,3), padding=\"same\"))\n",
    "model.add(Activation(\"relu\"))\n",
    "model.add(MaxPooling2D(pool_size=(2,2)))\n",
    "\n",
    "model.add(Conv2D(filters=64, kernel_size=(3,3), padding=\"same\"))\n",
    "model.add(Activation(\"relu\"))\n",
    "model.add(MaxPooling2D(pool_size=(2,2)))\n",
    "\n",
    "model.add(Flatten())\n",
    "\n",
    "model.add(Dense(units=240))\n",
    "model.add(Activation(\"relu\"))\n",
    "model.add(Dense(units=120))\n",
    "model.add(Activation(\"relu\"))\n",
    "model.add(Dense(units=20))\n",
    "model.add(Activation(\"softmax\"))\n",
    "\n",
    "model.compile(loss=\"categorical_crossentropy\",\n",
    "              optimizer=optimizers.Adam(),\n",
    "               metrics=[\"accuracy\"])\n",
    "\n",
    "batch_size=100\n",
    "epochs=30\n",
    "              \n",
    "history = model.fit(X_con_image, y_con_label,\n",
    "                    batch_size=batch_size,\n",
    "                    epochs=epochs,\n",
    "                    verbose=1,\n",
    "                    validation_data=(X_ver_image, y_ver_label))"
   ]
  },
  {
   "cell_type": "code",
   "execution_count": null,
   "metadata": {},
   "outputs": [],
   "source": []
  }
 ],
 "metadata": {
  "kernelspec": {
   "display_name": "Python 3",
   "language": "python",
   "name": "python3"
  },
  "language_info": {
   "codemirror_mode": {
    "name": "ipython",
    "version": 3
   },
   "file_extension": ".py",
   "mimetype": "text/x-python",
   "name": "python",
   "nbconvert_exporter": "python",
   "pygments_lexer": "ipython3",
   "version": "3.6.9"
  }
 },
 "nbformat": 4,
 "nbformat_minor": 2
}
